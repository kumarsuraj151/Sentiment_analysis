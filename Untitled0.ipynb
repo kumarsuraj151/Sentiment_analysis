{
  "cells": [
    {
      "cell_type": "code",
      "execution_count": 1,
      "metadata": {
        "id": "pPvkhUoB65-u"
      },
      "outputs": [],
      "source": [
        "import gensim\n",
        "import pandas as pd\n",
        "from sklearn.model_selection import train_test_split\n",
        "import numpy as np\n",
        "from gensim.models import Word2Vec\n",
        "import torch"
      ]
    },
    {
      "cell_type": "code",
      "execution_count": 4,
      "metadata": {
        "colab": {
          "base_uri": "https://localhost:8080/",
          "height": 10145
        },
        "id": "cn-MkSyA7V65",
        "outputId": "2f15f28b-1201-4523-c56c-49e2e9c99cab"
      },
      "outputs": [
        {
          "output_type": "execute_result",
          "data": {
            "text/plain": [
              "          id  sentiment                                             review\n",
              "0     5814_8          1  With all this stuff going down at the moment w...\n",
              "1     2381_9          1  \\The Classic War of the Worlds\\\" by Timothy Hi...\n",
              "2     7759_3          0  The film starts with a manager (Nicholas Bell)...\n",
              "3     3630_4          0  It must be assumed that those who praised this...\n",
              "4     9495_8          1  Superbly trashy and wondrously unpretentious 8...\n",
              "..       ...        ...                                                ...\n",
              "787  2158_10          1  I don't like \\grade inflation\\\" but I just had...\n",
              "788  4035_10          1  In a word...amazing.<br /><br />I initially wa...\n",
              "789   7563_1          0  Unfortunately, this movie does no credit whats...\n",
              "790   6280_7          1  If you like cars you will love this film!<br /...\n",
              "791   6676_9          1  ******WARNING: MAY CONTAIN SPOILERS***********...\n",
              "\n",
              "[792 rows x 3 columns]"
            ],
            "text/html": [
              "\n",
              "  <div id=\"df-0905f957-fd8a-4d8e-8f00-4f5e6cef7460\" class=\"colab-df-container\">\n",
              "    <div>\n",
              "<style scoped>\n",
              "    .dataframe tbody tr th:only-of-type {\n",
              "        vertical-align: middle;\n",
              "    }\n",
              "\n",
              "    .dataframe tbody tr th {\n",
              "        vertical-align: top;\n",
              "    }\n",
              "\n",
              "    .dataframe thead th {\n",
              "        text-align: right;\n",
              "    }\n",
              "</style>\n",
              "<table border=\"1\" class=\"dataframe\">\n",
              "  <thead>\n",
              "    <tr style=\"text-align: right;\">\n",
              "      <th></th>\n",
              "      <th>id</th>\n",
              "      <th>sentiment</th>\n",
              "      <th>review</th>\n",
              "    </tr>\n",
              "  </thead>\n",
              "  <tbody>\n",
              "    <tr>\n",
              "      <th>0</th>\n",
              "      <td>5814_8</td>\n",
              "      <td>1</td>\n",
              "      <td>With all this stuff going down at the moment w...</td>\n",
              "    </tr>\n",
              "    <tr>\n",
              "      <th>1</th>\n",
              "      <td>2381_9</td>\n",
              "      <td>1</td>\n",
              "      <td>\\The Classic War of the Worlds\\\" by Timothy Hi...</td>\n",
              "    </tr>\n",
              "    <tr>\n",
              "      <th>2</th>\n",
              "      <td>7759_3</td>\n",
              "      <td>0</td>\n",
              "      <td>The film starts with a manager (Nicholas Bell)...</td>\n",
              "    </tr>\n",
              "    <tr>\n",
              "      <th>3</th>\n",
              "      <td>3630_4</td>\n",
              "      <td>0</td>\n",
              "      <td>It must be assumed that those who praised this...</td>\n",
              "    </tr>\n",
              "    <tr>\n",
              "      <th>4</th>\n",
              "      <td>9495_8</td>\n",
              "      <td>1</td>\n",
              "      <td>Superbly trashy and wondrously unpretentious 8...</td>\n",
              "    </tr>\n",
              "    <tr>\n",
              "      <th>...</th>\n",
              "      <td>...</td>\n",
              "      <td>...</td>\n",
              "      <td>...</td>\n",
              "    </tr>\n",
              "    <tr>\n",
              "      <th>787</th>\n",
              "      <td>2158_10</td>\n",
              "      <td>1</td>\n",
              "      <td>I don't like \\grade inflation\\\" but I just had...</td>\n",
              "    </tr>\n",
              "    <tr>\n",
              "      <th>788</th>\n",
              "      <td>4035_10</td>\n",
              "      <td>1</td>\n",
              "      <td>In a word...amazing.&lt;br /&gt;&lt;br /&gt;I initially wa...</td>\n",
              "    </tr>\n",
              "    <tr>\n",
              "      <th>789</th>\n",
              "      <td>7563_1</td>\n",
              "      <td>0</td>\n",
              "      <td>Unfortunately, this movie does no credit whats...</td>\n",
              "    </tr>\n",
              "    <tr>\n",
              "      <th>790</th>\n",
              "      <td>6280_7</td>\n",
              "      <td>1</td>\n",
              "      <td>If you like cars you will love this film!&lt;br /...</td>\n",
              "    </tr>\n",
              "    <tr>\n",
              "      <th>791</th>\n",
              "      <td>6676_9</td>\n",
              "      <td>1</td>\n",
              "      <td>******WARNING: MAY CONTAIN SPOILERS***********...</td>\n",
              "    </tr>\n",
              "  </tbody>\n",
              "</table>\n",
              "<p>792 rows × 3 columns</p>\n",
              "</div>\n",
              "    <div class=\"colab-df-buttons\">\n",
              "\n",
              "  <div class=\"colab-df-container\">\n",
              "    <button class=\"colab-df-convert\" onclick=\"convertToInteractive('df-0905f957-fd8a-4d8e-8f00-4f5e6cef7460')\"\n",
              "            title=\"Convert this dataframe to an interactive table.\"\n",
              "            style=\"display:none;\">\n",
              "\n",
              "  <svg xmlns=\"http://www.w3.org/2000/svg\" height=\"24px\" viewBox=\"0 -960 960 960\">\n",
              "    <path d=\"M120-120v-720h720v720H120Zm60-500h600v-160H180v160Zm220 220h160v-160H400v160Zm0 220h160v-160H400v160ZM180-400h160v-160H180v160Zm440 0h160v-160H620v160ZM180-180h160v-160H180v160Zm440 0h160v-160H620v160Z\"/>\n",
              "  </svg>\n",
              "    </button>\n",
              "\n",
              "  <style>\n",
              "    .colab-df-container {\n",
              "      display:flex;\n",
              "      gap: 12px;\n",
              "    }\n",
              "\n",
              "    .colab-df-convert {\n",
              "      background-color: #E8F0FE;\n",
              "      border: none;\n",
              "      border-radius: 50%;\n",
              "      cursor: pointer;\n",
              "      display: none;\n",
              "      fill: #1967D2;\n",
              "      height: 32px;\n",
              "      padding: 0 0 0 0;\n",
              "      width: 32px;\n",
              "    }\n",
              "\n",
              "    .colab-df-convert:hover {\n",
              "      background-color: #E2EBFA;\n",
              "      box-shadow: 0px 1px 2px rgba(60, 64, 67, 0.3), 0px 1px 3px 1px rgba(60, 64, 67, 0.15);\n",
              "      fill: #174EA6;\n",
              "    }\n",
              "\n",
              "    .colab-df-buttons div {\n",
              "      margin-bottom: 4px;\n",
              "    }\n",
              "\n",
              "    [theme=dark] .colab-df-convert {\n",
              "      background-color: #3B4455;\n",
              "      fill: #D2E3FC;\n",
              "    }\n",
              "\n",
              "    [theme=dark] .colab-df-convert:hover {\n",
              "      background-color: #434B5C;\n",
              "      box-shadow: 0px 1px 3px 1px rgba(0, 0, 0, 0.15);\n",
              "      filter: drop-shadow(0px 1px 2px rgba(0, 0, 0, 0.3));\n",
              "      fill: #FFFFFF;\n",
              "    }\n",
              "  </style>\n",
              "\n",
              "    <script>\n",
              "      const buttonEl =\n",
              "        document.querySelector('#df-0905f957-fd8a-4d8e-8f00-4f5e6cef7460 button.colab-df-convert');\n",
              "      buttonEl.style.display =\n",
              "        google.colab.kernel.accessAllowed ? 'block' : 'none';\n",
              "\n",
              "      async function convertToInteractive(key) {\n",
              "        const element = document.querySelector('#df-0905f957-fd8a-4d8e-8f00-4f5e6cef7460');\n",
              "        const dataTable =\n",
              "          await google.colab.kernel.invokeFunction('convertToInteractive',\n",
              "                                                    [key], {});\n",
              "        if (!dataTable) return;\n",
              "\n",
              "        const docLinkHtml = 'Like what you see? Visit the ' +\n",
              "          '<a target=\"_blank\" href=https://colab.research.google.com/notebooks/data_table.ipynb>data table notebook</a>'\n",
              "          + ' to learn more about interactive tables.';\n",
              "        element.innerHTML = '';\n",
              "        dataTable['output_type'] = 'display_data';\n",
              "        await google.colab.output.renderOutput(dataTable, element);\n",
              "        const docLink = document.createElement('div');\n",
              "        docLink.innerHTML = docLinkHtml;\n",
              "        element.appendChild(docLink);\n",
              "      }\n",
              "    </script>\n",
              "  </div>\n",
              "\n",
              "\n",
              "<div id=\"df-dd7f2456-4b3c-4e8b-81ac-724ae02771f2\">\n",
              "  <button class=\"colab-df-quickchart\" onclick=\"quickchart('df-dd7f2456-4b3c-4e8b-81ac-724ae02771f2')\"\n",
              "            title=\"Suggest charts.\"\n",
              "            style=\"display:none;\">\n",
              "\n",
              "<svg xmlns=\"http://www.w3.org/2000/svg\" height=\"24px\"viewBox=\"0 0 24 24\"\n",
              "     width=\"24px\">\n",
              "    <g>\n",
              "        <path d=\"M19 3H5c-1.1 0-2 .9-2 2v14c0 1.1.9 2 2 2h14c1.1 0 2-.9 2-2V5c0-1.1-.9-2-2-2zM9 17H7v-7h2v7zm4 0h-2V7h2v10zm4 0h-2v-4h2v4z\"/>\n",
              "    </g>\n",
              "</svg>\n",
              "  </button>\n",
              "\n",
              "<style>\n",
              "  .colab-df-quickchart {\n",
              "    background-color: #E8F0FE;\n",
              "    border: none;\n",
              "    border-radius: 50%;\n",
              "    cursor: pointer;\n",
              "    display: none;\n",
              "    fill: #1967D2;\n",
              "    height: 32px;\n",
              "    padding: 0 0 0 0;\n",
              "    width: 32px;\n",
              "  }\n",
              "\n",
              "  .colab-df-quickchart:hover {\n",
              "    background-color: #E2EBFA;\n",
              "    box-shadow: 0px 1px 2px rgba(60, 64, 67, 0.3), 0px 1px 3px 1px rgba(60, 64, 67, 0.15);\n",
              "    fill: #174EA6;\n",
              "  }\n",
              "\n",
              "  [theme=dark] .colab-df-quickchart {\n",
              "    background-color: #3B4455;\n",
              "    fill: #D2E3FC;\n",
              "  }\n",
              "\n",
              "  [theme=dark] .colab-df-quickchart:hover {\n",
              "    background-color: #434B5C;\n",
              "    box-shadow: 0px 1px 3px 1px rgba(0, 0, 0, 0.15);\n",
              "    filter: drop-shadow(0px 1px 2px rgba(0, 0, 0, 0.3));\n",
              "    fill: #FFFFFF;\n",
              "  }\n",
              "</style>\n",
              "\n",
              "  <script>\n",
              "    async function quickchart(key) {\n",
              "      const charts = await google.colab.kernel.invokeFunction(\n",
              "          'suggestCharts', [key], {});\n",
              "    }\n",
              "    (() => {\n",
              "      let quickchartButtonEl =\n",
              "        document.querySelector('#df-dd7f2456-4b3c-4e8b-81ac-724ae02771f2 button');\n",
              "      quickchartButtonEl.style.display =\n",
              "        google.colab.kernel.accessAllowed ? 'block' : 'none';\n",
              "    })();\n",
              "  </script>\n",
              "</div>\n",
              "    </div>\n",
              "  </div>\n"
            ]
          },
          "metadata": {},
          "execution_count": 4
        }
      ],
      "source": [
        "df=pd.read_table('labeledTrainData.tsv')\n",
        "df"
      ]
    },
    {
      "cell_type": "code",
      "execution_count": 5,
      "metadata": {
        "colab": {
          "base_uri": "https://localhost:8080/"
        },
        "id": "1T86L5ki7ZoH",
        "outputId": "24ff98c4-45fc-4287-a153-ae713e45aa84"
      },
      "outputs": [
        {
          "output_type": "execute_result",
          "data": {
            "text/plain": [
              "0      [with, all, this, stuff, going, down, at, the,...\n",
              "1      [the, classic, war, of, the, worlds, by, timot...\n",
              "2      [the, film, starts, with, manager, nicholas, b...\n",
              "3      [it, must, be, assumed, that, those, who, prai...\n",
              "4      [superbly, trashy, and, wondrously, unpretenti...\n",
              "                             ...                        \n",
              "787    [don, like, grade, inflation, but, just, had, ...\n",
              "788    [in, word, amazing, br, br, initially, was, no...\n",
              "789    [unfortunately, this, movie, does, no, credit,...\n",
              "790    [if, you, like, cars, you, will, love, this, f...\n",
              "791    [warning, may, contain, spoilers, br, br, so, ...\n",
              "Name: review, Length: 792, dtype: object"
            ]
          },
          "metadata": {},
          "execution_count": 5
        }
      ],
      "source": [
        "reviewSeries=df.review.apply(gensim.utils.simple_preprocess)  #preprocessing out review text using gensim\n",
        "reviewSeries\n"
      ]
    },
    {
      "cell_type": "code",
      "execution_count": 6,
      "metadata": {
        "id": "jTPS3PDE7dNk"
      },
      "outputs": [],
      "source": [
        "model = Word2Vec(sentences=reviewSeries, vector_size=100, window=10, min_count=1, workers=4)\n",
        "model.save(\"word2vec.model\")"
      ]
    },
    {
      "cell_type": "code",
      "execution_count": 7,
      "metadata": {
        "id": "VqWp9MxJ7hGy"
      },
      "outputs": [],
      "source": [
        "Y=df.sentiment.to_numpy()"
      ]
    },
    {
      "cell_type": "markdown",
      "source": [],
      "metadata": {
        "id": "3Nw9BZkMMT35"
      }
    },
    {
      "cell_type": "code",
      "execution_count": 47,
      "metadata": {
        "id": "BM-yfr657kJc"
      },
      "outputs": [],
      "source": [
        "x_train,x_test,y_train,y_test=train_test_split(reviewSeries,Y,test_size=.6,random_state=10)"
      ]
    },
    {
      "cell_type": "code",
      "source": [
        "a,x__test,a,y__test=train_test_split(x_test,y_test,test_size=.2,random_state=10)"
      ],
      "metadata": {
        "id": "_oxUV1P0N8Ho"
      },
      "execution_count": 62,
      "outputs": []
    },
    {
      "cell_type": "code",
      "execution_count": 94,
      "metadata": {
        "id": "o4-UxiBB7mLU"
      },
      "outputs": [],
      "source": [
        "class GRU():\n",
        "    def __init__(self):\n",
        "        self.H=torch.zeros(20,1)\n",
        "        self.W_z=torch.rand(20,120,dtype=torch.float64,requires_grad=True)\n",
        "        self.b_z=torch.rand(20,1,requires_grad=True)\n",
        "        self.W_r=torch.rand(20,120,dtype=torch.float64,requires_grad=True)\n",
        "        self.b_r=torch.rand(20,1,requires_grad=True)\n",
        "        self.W_h=torch.rand(20,120,dtype=torch.float64,requires_grad=True)\n",
        "        self.b_h=torch.rand(20,1,requires_grad=True)\n",
        "        self.W_fi=torch.rand(1,20,dtype=torch.float64,requires_grad=True)\n",
        "        self.W_ci=torch.rand(1,1,requires_grad=True)\n",
        "\n",
        "        self.MSE=torch.nn.MSELoss()\n",
        "        self.optimiser=torch.optim.Adam([self.W_z,self.b_z,self.W_r,self.b_r,self.W_h,self.b_h,self.W_fi,self.W_ci],lr=0.001)\n",
        "\n",
        "\n",
        "    def ForwarPass(self,a):\n",
        "        temp=self.H\n",
        "        for word in a:\n",
        "            vec=model.wv[word]\n",
        "            vec=torch.tensor(vec,dtype=torch.float64)\n",
        "            x=vec.reshape(100,-1)\n",
        "            a_=torch.cat((temp,x),0)\n",
        "            z=torch.sigmoid(torch.matmul(self.W_z,a_)+self.b_z)\n",
        "\n",
        "            r=torch.sigmoid(torch.matmul(self.W_r,a_)+self.b_r)\n",
        "\n",
        "            m=torch.mul(r,temp)\n",
        "            m_=torch.cat((m,x),0)\n",
        "            h=torch.tanh(torch.matmul(self.W_h,m_)+self.b_h)\n",
        "\n",
        "            temp=torch.mul((1-z),temp)+torch.mul(z,h)\n",
        "        y=torch.matmul(self.W_fi,temp)+self.W_ci\n",
        "        return y\n",
        "\n",
        "    def Train(self,X,Y,epoch):\n",
        "        GruLoss=[]\n",
        "        for j in range(epoch):\n",
        "            total_ls =0\n",
        "            for i,ele in enumerate(X):\n",
        "                ypre=self.ForwarPass(ele)\n",
        "                ypre=ypre.reshape(-1)\n",
        "                los=self.MSE(ypre,Y[i])\n",
        "                self.optimiser.zero_grad()\n",
        "                total_ls = total_ls + los.detach().item()\n",
        "\n",
        "                los.backward()\n",
        "\n",
        "                self.optimiser.step()\n",
        "\n",
        "            GruLoss.append(total_ls/len(X))\n",
        "\n",
        "            print(f' loss at epoch {j} is {total_ls/len(X)}')\n",
        "        return GruLoss\n",
        "\n",
        "    def Test(self,X,Y):\n",
        "        total_ls =0\n",
        "        for i,ele in enumerate(X):\n",
        "            ypre=self.ForwarPass(ele)\n",
        "            if(ypre> .5):\n",
        "              ypre=1\n",
        "            else:\n",
        "              ypre=0\n",
        "\n",
        "            if(ypre == Y[i].item()):\n",
        "              total_ls += 1\n",
        "\n",
        "        return total_ls/len(X)"
      ]
    },
    {
      "cell_type": "code",
      "execution_count": 95,
      "metadata": {
        "id": "svUbIwpP7pqA"
      },
      "outputs": [],
      "source": [
        "gru=GRU()"
      ]
    },
    {
      "cell_type": "code",
      "execution_count": 96,
      "metadata": {
        "id": "GqctsLxv7rZ5",
        "colab": {
          "base_uri": "https://localhost:8080/"
        },
        "outputId": "53bc0582-a1a2-4360-b50e-d960bf601345"
      },
      "outputs": [
        {
          "output_type": "stream",
          "name": "stderr",
          "text": [
            "<ipython-input-96-cefd9b0be394>:1: UserWarning: To copy construct from a tensor, it is recommended to use sourceTensor.clone().detach() or sourceTensor.clone().detach().requires_grad_(True), rather than torch.tensor(sourceTensor).\n",
            "  y_train=torch.tensor(y_train,dtype=torch.float64)\n"
          ]
        }
      ],
      "source": [
        "y_train=torch.tensor(y_train,dtype=torch.float64)"
      ]
    },
    {
      "cell_type": "code",
      "execution_count": 98,
      "metadata": {
        "colab": {
          "base_uri": "https://localhost:8080/"
        },
        "id": "SoFwL6ig7tLC",
        "outputId": "f0573b14-7b14-4ad6-dce5-86d87259aae6"
      },
      "outputs": [
        {
          "output_type": "stream",
          "name": "stdout",
          "text": [
            " loss at epoch 0 is 0.25971977663248663\n",
            " loss at epoch 1 is 0.25716459126681446\n",
            " loss at epoch 2 is 0.2551702144024837\n",
            " loss at epoch 3 is 0.25347165891862017\n",
            " loss at epoch 4 is 0.2520829235441264\n"
          ]
        },
        {
          "output_type": "execute_result",
          "data": {
            "text/plain": [
              "[0.25971977663248663,\n",
              " 0.25716459126681446,\n",
              " 0.2551702144024837,\n",
              " 0.25347165891862017,\n",
              " 0.2520829235441264]"
            ]
          },
          "metadata": {},
          "execution_count": 98
        }
      ],
      "source": [
        "gru.Train(x_train,y_train,5)"
      ]
    },
    {
      "cell_type": "code",
      "execution_count": 99,
      "metadata": {
        "id": "g8NuFPqB7wdv"
      },
      "outputs": [],
      "source": [
        "y_test=torch.tensor(y__test,dtype=torch.float64)"
      ]
    },
    {
      "cell_type": "code",
      "execution_count": 100,
      "metadata": {
        "id": "L74Vzmed7zfL",
        "colab": {
          "base_uri": "https://localhost:8080/"
        },
        "outputId": "1e31252e-8864-4b51-81c2-407de1b65eec"
      },
      "outputs": [
        {
          "output_type": "execute_result",
          "data": {
            "text/plain": [
              "0.53125"
            ]
          },
          "metadata": {},
          "execution_count": 100
        }
      ],
      "source": [
        "score = gru.Test(x__test,y_test)\n",
        "score"
      ]
    }
  ],
  "metadata": {
    "colab": {
      "provenance": []
    },
    "kernelspec": {
      "display_name": "Python 3",
      "name": "python3"
    },
    "language_info": {
      "name": "python"
    }
  },
  "nbformat": 4,
  "nbformat_minor": 0
}